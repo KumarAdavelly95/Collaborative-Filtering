{
  "nbformat": 4,
  "nbformat_minor": 0,
  "metadata": {
    "colab": {
      "name": "Item_Based_Filtering.ipynb",
      "provenance": []
    },
    "kernelspec": {
      "name": "python3",
      "display_name": "Python 3"
    }
  },
  "cells": [
    {
      "cell_type": "code",
      "metadata": {
        "id": "wnB3qoWlFqXa",
        "colab_type": "code",
        "colab": {}
      },
      "source": [
        "import math\n",
        "from operator import itemgetter\n",
        "\n"
      ],
      "execution_count": 0,
      "outputs": []
    },
    {
      "cell_type": "code",
      "metadata": {
        "id": "blk6z8dxX463",
        "colab_type": "code",
        "colab": {}
      },
      "source": [
        "#sample dictionary ins the user based format\n",
        "\n",
        "songData = {\"Angelica\": {\"Blues Traveler\": 3.5, \"Broken Bells\": 2.0, \"Norah Jones\": 4.5, \"Phoenix\": 5.0, \"Slightly Stoopid\": 1.5, \"The Strokes\": 2.5, \"Vampire Weekend\": 2.0},\n",
        "         \"Bill\":{\"Blues Traveler\": 2.0, \"Broken Bells\": 3.5, \"Deadmau5\": 4.0, \"Phoenix\": 2.0, \"Slightly Stoopid\": 3.5, \"Vampire Weekend\": 3.0},\n",
        "         \"Chan\": {\"Blues Traveler\": 5.0, \"Broken Bells\": 1.0, \"Deadmau5\": 1.0, \"Norah Jones\": 3.0, \"Phoenix\": 5, \"Slightly Stoopid\": 1.0},\n",
        "         \"Dan\": {\"Blues Traveler\": 3.0, \"Broken Bells\": 4.0, \"Deadmau5\": 4.5, \"Phoenix\": 3.0, \"Slightly Stoopid\": 4.5, \"The Strokes\": 4.0, \"Vampire Weekend\": 2.0},\n",
        "         \"Hailey\": {\"Broken Bells\": 4.0, \"Deadmau5\": 1.0, \"Norah Jones\": 4.0, \"The Strokes\": 4.0, \"Vampire Weekend\": 1.0},\n",
        "         \"Jordyn\":  {\"Broken Bells\": 4.5, \"Deadmau5\": 4.0, \"Norah Jones\": 5.0, \"Phoenix\": 5.0, \"Slightly Stoopid\": 4.5, \"The Strokes\": 4.0, \"Vampire Weekend\": 4.0},\n",
        "         \"Sam\": {\"Blues Traveler\": 5.0, \"Broken Bells\": 2.0, \"Norah Jones\": 3.0, \"Phoenix\": 5.0, \"Slightly Stoopid\": 4.0, \"The Strokes\": 5.0},\n",
        "         \"Veronica\": {\"Blues Traveler\": 3.0, \"Norah Jones\": 5.0, \"Phoenix\": 4.0, \"Slightly Stoopid\": 2.5, \"The Strokes\": 3.0}\n",
        "        }\n"
      ],
      "execution_count": 0,
      "outputs": []
    },
    {
      "cell_type": "code",
      "metadata": {
        "id": "wrHDxitICZ4w",
        "colab_type": "code",
        "outputId": "95150205-8484-4925-bb34-f511e75ef2e9",
        "colab": {
          "base_uri": "https://localhost:8080/",
          "height": 34
        }
      },
      "source": [
        "#Constructing a class to make recommendations using Item - Based Filtering\n",
        "\n",
        "#Note: initiate the tranpose_dictionary function only if the dataset is not in item based format\n",
        "import pandas as pd\n",
        "import numpy as np\n",
        "\n",
        "class item_based:\n",
        "    \n",
        "    # Class instantiation \n",
        "    # itemP: It is the item we are trying to predict the ratings for\n",
        "    # userP: It is the User we are predicting the item ratings for\n",
        "    #item_dictionary: Dictionary we are using to predict the ratings\n",
        "    def __init__ (self,itemP, userP, item_dictionary):\n",
        "        self.ratings = item_dictionary\n",
        "        self.itemP = itemP\n",
        "        self.userP = userP\n",
        "\n",
        "    # Use this function only if the dataset is in User Based format\n",
        "    def tranpose_dictionary(self):\n",
        "        matrx = pd.DataFrame.from_dict({(i):self.ratings[i] for i in self.ratings.keys()},orient = 'Index')\n",
        "        matrx1 = matrx.fillna('-2')\n",
        "        songDataUnfiltered = matrx1.to_dict('dict')\n",
        "\n",
        "        transposed_dict = {}\n",
        "        for i in songDataUnfiltered.keys():\n",
        "          new_dict = {}\n",
        "          #new_dict = dict(filter((lambda x,y: x,y if y = -2),songDataUnfiltered[i].items()))\n",
        "          for key,value in songDataUnfiltered[i].items():\n",
        "            if value != \"-2\":\n",
        "              new_dict[key] = value\n",
        "              transposed_dict[i] = new_dict \n",
        "\n",
        "        return (transposed_dict)\n",
        "\n",
        "    #Computing the weighted slope\n",
        "    def weighted_slope(self):\n",
        "\n",
        "        iname = self.itemP\n",
        "        uname = self.userP\n",
        "        \n",
        "        rvj = 0\n",
        "        final_n = 0\n",
        "        tf = 0\n",
        "        tt = 0\n",
        "        n1 = 0\n",
        "        for i in self.ratings.keys():\n",
        "          if i != iname:\n",
        "            sum_num = 0\n",
        "            n = 0\n",
        "            for user in (set(self.ratings[iname].keys()) & set(self.ratings[i].keys())):\n",
        "              n += 1 \n",
        "\n",
        "              if n == 0:\n",
        "                return (-2)\n",
        "\n",
        "              ruk = self.ratings[iname][user]\n",
        "              ruj = self.ratings[i][user]\n",
        "            \n",
        "              num = ruk-ruj # numerator \n",
        "              #print (\"num :\", num)\n",
        "\n",
        "              sum_num += num # deviation in ratings per user amongs itemX and itemY\n",
        "\n",
        "              dev = sum_num/n\n",
        "              #print (i, dev, n)\n",
        "\n",
        "              for u in self.ratings[i].keys():\n",
        "                if u == uname:\n",
        "                  user_rating = self.ratings[i][u]\n",
        "            #print (\"initial n :\",n)\n",
        "\n",
        "            tt += (dev+user_rating)*n\n",
        "            n1 += n\n",
        "            #print ('dev :', dev, \"user_ratings :\", user_rating, \"n :\", n)\n",
        "        \n",
        "        tf = tt\n",
        "\n",
        "        return (round((tf/n1),2))\n",
        "\n",
        "\n",
        "#---------------------------------------------------------------------------------------------------\n",
        "#return (\"ratings prediction for \", itemP, \"when rated by \", userX, \":\", rvj)\n",
        "\n",
        "itemX = \"Norah Jones\" \n",
        "userX = 'Bill'\n",
        "\n",
        "#put songData in first \n",
        "fido = item_based(itemX,userX,songData)\n",
        "item_dict = fido.tranpose_dictionary()\n",
        "\n",
        "#use transposed dictionary\n",
        "#Note: can jump to this step if the dictionary is in Item Based format\n",
        "test = item_based(itemX,userX,item_dict)\n",
        "fido = test.weighted_slope()\n",
        "fido\n"
      ],
      "execution_count": 6,
      "outputs": [
        {
          "output_type": "execute_result",
          "data": {
            "text/plain": [
              "3.85"
            ]
          },
          "metadata": {
            "tags": []
          },
          "execution_count": 6
        }
      ]
    },
    {
      "cell_type": "code",
      "metadata": {
        "id": "KRPe0rKfaQG0",
        "colab_type": "code",
        "colab": {}
      },
      "source": [
        ""
      ],
      "execution_count": 0,
      "outputs": []
    }
  ]
}